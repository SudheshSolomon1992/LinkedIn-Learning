{
  "nbformat": 4,
  "nbformat_minor": 0,
  "metadata": {
    "colab": {
      "name": "Titanic.ipynb",
      "provenance": []
    },
    "kernelspec": {
      "name": "python3",
      "display_name": "Python 3"
    },
    "language_info": {
      "name": "python"
    },
    "accelerator": "GPU"
  },
  "cells": [
    {
      "cell_type": "code",
      "execution_count": null,
      "metadata": {
        "id": "4iS90GdP5Fl3"
      },
      "outputs": [],
      "source": [
        "import matplotlib.pyplot as plt\n",
        "import numpy as np\n",
        "import pandas as pd\n",
        "import seaborn as sns\n",
        "%matplotlib inline"
      ]
    },
    {
      "cell_type": "code",
      "source": [
        "from google.colab import drive\n",
        "drive.mount('/content/drive')"
      ],
      "metadata": {
        "colab": {
          "base_uri": "https://localhost:8080/",
          "height": 328
        },
        "id": "RBcerNMM5iH_",
        "outputId": "38041333-97da-4fa7-b1cb-4ca13a59025d"
      },
      "execution_count": null,
      "outputs": [
        {
          "output_type": "error",
          "ename": "KeyboardInterrupt",
          "evalue": "ignored",
          "traceback": [
            "\u001b[0;31m---------------------------------------------------------------------------\u001b[0m",
            "\u001b[0;31mKeyboardInterrupt\u001b[0m                         Traceback (most recent call last)",
            "\u001b[0;32m<ipython-input-2-d5df0069828e>\u001b[0m in \u001b[0;36m<module>\u001b[0;34m()\u001b[0m\n\u001b[1;32m      1\u001b[0m \u001b[0;32mfrom\u001b[0m \u001b[0mgoogle\u001b[0m\u001b[0;34m.\u001b[0m\u001b[0mcolab\u001b[0m \u001b[0;32mimport\u001b[0m \u001b[0mdrive\u001b[0m\u001b[0;34m\u001b[0m\u001b[0;34m\u001b[0m\u001b[0m\n\u001b[0;32m----> 2\u001b[0;31m \u001b[0mdrive\u001b[0m\u001b[0;34m.\u001b[0m\u001b[0mmount\u001b[0m\u001b[0;34m(\u001b[0m\u001b[0;34m'/content/drive'\u001b[0m\u001b[0;34m)\u001b[0m\u001b[0;34m\u001b[0m\u001b[0;34m\u001b[0m\u001b[0m\n\u001b[0m",
            "\u001b[0;32m/usr/local/lib/python3.7/dist-packages/google/colab/drive.py\u001b[0m in \u001b[0;36mmount\u001b[0;34m(mountpoint, force_remount, timeout_ms)\u001b[0m\n\u001b[1;32m    107\u001b[0m       \u001b[0mforce_remount\u001b[0m\u001b[0;34m=\u001b[0m\u001b[0mforce_remount\u001b[0m\u001b[0;34m,\u001b[0m\u001b[0;34m\u001b[0m\u001b[0;34m\u001b[0m\u001b[0m\n\u001b[1;32m    108\u001b[0m       \u001b[0mtimeout_ms\u001b[0m\u001b[0;34m=\u001b[0m\u001b[0mtimeout_ms\u001b[0m\u001b[0;34m,\u001b[0m\u001b[0;34m\u001b[0m\u001b[0;34m\u001b[0m\u001b[0m\n\u001b[0;32m--> 109\u001b[0;31m       ephemeral=True)\n\u001b[0m\u001b[1;32m    110\u001b[0m \u001b[0;34m\u001b[0m\u001b[0m\n\u001b[1;32m    111\u001b[0m \u001b[0;34m\u001b[0m\u001b[0m\n",
            "\u001b[0;32m/usr/local/lib/python3.7/dist-packages/google/colab/drive.py\u001b[0m in \u001b[0;36m_mount\u001b[0;34m(mountpoint, force_remount, timeout_ms, ephemeral)\u001b[0m\n\u001b[1;32m    122\u001b[0m   \u001b[0;32mif\u001b[0m \u001b[0mephemeral\u001b[0m\u001b[0;34m:\u001b[0m\u001b[0;34m\u001b[0m\u001b[0;34m\u001b[0m\u001b[0m\n\u001b[1;32m    123\u001b[0m     _message.blocking_request(\n\u001b[0;32m--> 124\u001b[0;31m         'request_auth', request={'authType': 'dfs_ephemeral'}, timeout_sec=None)\n\u001b[0m\u001b[1;32m    125\u001b[0m \u001b[0;34m\u001b[0m\u001b[0m\n\u001b[1;32m    126\u001b[0m   \u001b[0mmountpoint\u001b[0m \u001b[0;34m=\u001b[0m \u001b[0m_os\u001b[0m\u001b[0;34m.\u001b[0m\u001b[0mpath\u001b[0m\u001b[0;34m.\u001b[0m\u001b[0mexpanduser\u001b[0m\u001b[0;34m(\u001b[0m\u001b[0mmountpoint\u001b[0m\u001b[0;34m)\u001b[0m\u001b[0;34m\u001b[0m\u001b[0;34m\u001b[0m\u001b[0m\n",
            "\u001b[0;32m/usr/local/lib/python3.7/dist-packages/google/colab/_message.py\u001b[0m in \u001b[0;36mblocking_request\u001b[0;34m(request_type, request, timeout_sec, parent)\u001b[0m\n\u001b[1;32m    173\u001b[0m   request_id = send_request(\n\u001b[1;32m    174\u001b[0m       request_type, request, parent=parent, expect_reply=True)\n\u001b[0;32m--> 175\u001b[0;31m   \u001b[0;32mreturn\u001b[0m \u001b[0mread_reply_from_input\u001b[0m\u001b[0;34m(\u001b[0m\u001b[0mrequest_id\u001b[0m\u001b[0;34m,\u001b[0m \u001b[0mtimeout_sec\u001b[0m\u001b[0;34m)\u001b[0m\u001b[0;34m\u001b[0m\u001b[0;34m\u001b[0m\u001b[0m\n\u001b[0m",
            "\u001b[0;32m/usr/local/lib/python3.7/dist-packages/google/colab/_message.py\u001b[0m in \u001b[0;36mread_reply_from_input\u001b[0;34m(message_id, timeout_sec)\u001b[0m\n\u001b[1;32m     99\u001b[0m     \u001b[0mreply\u001b[0m \u001b[0;34m=\u001b[0m \u001b[0m_read_next_input_message\u001b[0m\u001b[0;34m(\u001b[0m\u001b[0;34m)\u001b[0m\u001b[0;34m\u001b[0m\u001b[0;34m\u001b[0m\u001b[0m\n\u001b[1;32m    100\u001b[0m     \u001b[0;32mif\u001b[0m \u001b[0mreply\u001b[0m \u001b[0;34m==\u001b[0m \u001b[0m_NOT_READY\u001b[0m \u001b[0;32mor\u001b[0m \u001b[0;32mnot\u001b[0m \u001b[0misinstance\u001b[0m\u001b[0;34m(\u001b[0m\u001b[0mreply\u001b[0m\u001b[0;34m,\u001b[0m \u001b[0mdict\u001b[0m\u001b[0;34m)\u001b[0m\u001b[0;34m:\u001b[0m\u001b[0;34m\u001b[0m\u001b[0;34m\u001b[0m\u001b[0m\n\u001b[0;32m--> 101\u001b[0;31m       \u001b[0mtime\u001b[0m\u001b[0;34m.\u001b[0m\u001b[0msleep\u001b[0m\u001b[0;34m(\u001b[0m\u001b[0;36m0.025\u001b[0m\u001b[0;34m)\u001b[0m\u001b[0;34m\u001b[0m\u001b[0;34m\u001b[0m\u001b[0m\n\u001b[0m\u001b[1;32m    102\u001b[0m       \u001b[0;32mcontinue\u001b[0m\u001b[0;34m\u001b[0m\u001b[0;34m\u001b[0m\u001b[0m\n\u001b[1;32m    103\u001b[0m     if (reply.get('type') == 'colab_reply' and\n",
            "\u001b[0;31mKeyboardInterrupt\u001b[0m: "
          ]
        }
      ]
    },
    {
      "cell_type": "code",
      "source": [
        "titanic = pd.read_csv('.. PATH TO FILE ..')"
      ],
      "metadata": {
        "id": "lEWhvM165gms"
      },
      "execution_count": null,
      "outputs": []
    },
    {
      "cell_type": "code",
      "source": [
        "titanic.head()"
      ],
      "metadata": {
        "id": "Ck3legdC56sp"
      },
      "execution_count": null,
      "outputs": []
    },
    {
      "cell_type": "markdown",
      "source": [
        "**Analysis: Continuous Features**"
      ],
      "metadata": {
        "id": "xlGaIuhT704g"
      }
    },
    {
      "cell_type": "code",
      "source": [
        "# Drop all categorical features\n",
        "cat_feat = ['PassengerId', 'Name', 'Ticket', 'Sex', 'Cabin', 'Embarked']\n",
        "titanic.drop(cat_feat, axis=1, inplace=True) #inplace : don't create new dataframe\n",
        "titanic.head()"
      ],
      "metadata": {
        "id": "utvv2fuA5_aY"
      },
      "execution_count": null,
      "outputs": []
    },
    {
      "cell_type": "code",
      "source": [
        "# Mean : what percent of people survived\n",
        "titanic.describe()"
      ],
      "metadata": {
        "id": "JAmOAmeB6el5"
      },
      "execution_count": null,
      "outputs": []
    },
    {
      "cell_type": "code",
      "source": [
        "# describe data based on class\n",
        "titanic.groupby('Survived').mean()"
      ],
      "metadata": {
        "id": "Wo14taQc62Rn"
      },
      "execution_count": null,
      "outputs": []
    },
    {
      "cell_type": "code",
      "source": [
        "titanic.groupby(titanic['Age'].isnull()).mean()"
      ],
      "metadata": {
        "id": "Tw3SpCC47gDH"
      },
      "execution_count": null,
      "outputs": []
    },
    {
      "cell_type": "markdown",
      "source": [
        "**PLOT CONTINUOUS FEATURES**"
      ],
      "metadata": {
        "id": "9msNLKap7_ul"
      }
    },
    {
      "cell_type": "code",
      "source": [
        "for i in ['Age', 'Fare']:\n",
        "  died = list(titanic[titanic['Survived']==0][i].dropna())\n",
        "  survived = list(titanic[titanic['Survived']==1][i].dropna())\n",
        "  xmin = min(min(died), min(survived))\n",
        "  xmax = max(max(died), max(survived))\n",
        "  width = xmax - xmin / 40\n",
        "  sns.distplot(died, color='r', kde=False, bins=np.arange(xmin,xmax, width))\n",
        "  sns.distplot(survived, color='g', kde=False, bins=np.arange(xmin,xmax, width))\n",
        "  plt.legend(['Did not survive', 'Survived'])\n",
        "  plt.title('Overlaid histogram for {}'.format(i))\n",
        "  plt.show()"
      ],
      "metadata": {
        "id": "ihQ5ta7q7qEf"
      },
      "execution_count": null,
      "outputs": []
    },
    {
      "cell_type": "markdown",
      "source": [
        "The point on each of the plot represent the percentage of people survived. Vertical bars represent the error. Limited data shows large vertical bar, and rich data / confident data represents small vertical bars."
      ],
      "metadata": {
        "id": "SyQuIxWg_RE9"
      }
    },
    {
      "cell_type": "code",
      "source": [
        "for i, col in enumerate(['Pclass', 'SibSp', 'Parch']):\n",
        "  plt.figure(i)\n",
        "  sns.catplot(x=col, y='Survived', data=titanic , kind='point' , aspect=2)"
      ],
      "metadata": {
        "id": "MqvfmNZ89iRN"
      },
      "execution_count": null,
      "outputs": []
    },
    {
      "cell_type": "code",
      "source": [
        "# SibSp and Parch relates to family. Hence merging it to a single feature\n",
        "titanic['family_cnt'] = titanic['SibSp'] + titanic['Parch']\n",
        "titanic.drop(['SibSp', 'Parch'], axis=1, inplace=True) # remove these features to prevent multi-collinearity (two or more features representing the same information)\n",
        "sns.catplot(x='family_cnt', y='Survived', data=titanic, kind='point', aspect=2)"
      ],
      "metadata": {
        "id": "rJYaQESB-hKQ"
      },
      "execution_count": null,
      "outputs": []
    },
    {
      "cell_type": "markdown",
      "source": [
        "Fill missing age with average"
      ],
      "metadata": {
        "id": "ODGEtPqsACwR"
      }
    },
    {
      "cell_type": "code",
      "source": [
        "titanic['Age'].fillna(titanic['Age'].mean(), inplace=True)\n",
        "titanic.isnull().sum()"
      ],
      "metadata": {
        "id": "ebVGlX2r_zXe"
      },
      "execution_count": null,
      "outputs": []
    },
    {
      "cell_type": "markdown",
      "source": [
        "# **Analysis: Categorical Features**"
      ],
      "metadata": {
        "id": "hOZKEdaJBuT0"
      }
    },
    {
      "cell_type": "code",
      "source": [
        "titanic = pd.read_csv('.. PATH TO FILE ..')"
      ],
      "metadata": {
        "id": "RDOOSiv3ByLe"
      },
      "execution_count": null,
      "outputs": []
    },
    {
      "cell_type": "code",
      "source": [
        "# drop all continuous features\n",
        "cont_feat = ['PassengerId', 'Pclass', 'Name', 'Age', 'SibSp', 'Parch', 'Fare'] # remove name as well as it has no meaning in this dataset\n",
        "titanic.drop(cont_feat, axis=1, inplace=True)\n",
        "titanic.head()"
      ],
      "metadata": {
        "id": "cBEXTadfBz-Z"
      },
      "execution_count": null,
      "outputs": []
    },
    {
      "cell_type": "markdown",
      "source": [
        "**Explore Categorical Features**"
      ],
      "metadata": {
        "id": "fKvaMAUHCSKU"
      }
    },
    {
      "cell_type": "code",
      "source": [
        "titanic.info()"
      ],
      "metadata": {
        "id": "8feF_CyMCZaA"
      },
      "execution_count": null,
      "outputs": []
    },
    {
      "cell_type": "markdown",
      "source": [
        "We can find that there are missing values for Cabin and Embarked"
      ],
      "metadata": {
        "id": "91gtUMvHCjN3"
      }
    },
    {
      "cell_type": "code",
      "source": [
        "titanic.groupby(titanic['Cabin'].isnull()).mean()"
      ],
      "metadata": {
        "id": "-cLlQOc3Cpu2"
      },
      "execution_count": null,
      "outputs": []
    },
    {
      "cell_type": "markdown",
      "source": [
        "66% of people who had non-missing Cabin value survived and 30% of peopl who had missing Cabin value survived. Although 80% of Cabin value is null in the dataset, the feature has strong correlation with the target variable (based on the above analysis). Hence it should not be deleted."
      ],
      "metadata": {
        "id": "H6CmdxNUDGFa"
      }
    },
    {
      "cell_type": "code",
      "source": [
        "titanic['Cabin_ind'] = np.where(titanic['Cabin'].isnull(), 0, 1)\n",
        "titanic.head(10)"
      ],
      "metadata": {
        "id": "NXznlMaCC6gr"
      },
      "execution_count": null,
      "outputs": []
    },
    {
      "cell_type": "markdown",
      "source": [
        "**Plotting Categorical Features**"
      ],
      "metadata": {
        "id": "Q-YNAUTdED5Q"
      }
    },
    {
      "cell_type": "code",
      "source": [
        "for i, col in enumerate(['Cabin_ind', 'Sex', 'Embarked']):\n",
        "  plt.figure(i)\n",
        "  sns.catplot(x=col, y='Survived', data=titanic , kind='point' , aspect=2)"
      ],
      "metadata": {
        "id": "J16yZJcpEHMY"
      },
      "execution_count": null,
      "outputs": []
    },
    {
      "cell_type": "code",
      "source": [
        "# pivot tables are used to explore relationships between multiple features\n",
        "titanic.pivot_table('Survived', index='Sex', columns='Embarked', aggfunc='count')"
      ],
      "metadata": {
        "id": "6xbiDi56ExUO"
      },
      "execution_count": null,
      "outputs": []
    },
    {
      "cell_type": "code",
      "source": [
        "titanic.pivot_table('Survived', index='Cabin_ind', columns='Embarked', aggfunc='count')"
      ],
      "metadata": {
        "id": "0qnVLhx-FI1o"
      },
      "execution_count": null,
      "outputs": []
    },
    {
      "cell_type": "markdown",
      "source": [
        "Inference for 3rd catplot: Fewer people from Southampton (S) survived because most of them were men (from fig: 1 (Men's survival rate is low)) and most people who boarded in C survived as most of them had cabins (from fig: 2 (people without cabins had low survival rate)). Since embarked is related to Sex and Cabin_ind it does not contribute much."
      ],
      "metadata": {
        "id": "RUE6kbKQFXNg"
      }
    },
    {
      "cell_type": "markdown",
      "source": [
        "**Categorical Data Cleaning**"
      ],
      "metadata": {
        "id": "Uh-l7MOtGFuz"
      }
    },
    {
      "cell_type": "code",
      "source": [
        "titanic = pd.read_csv('.. PATH TO FILE ..')\n",
        "titanic.drop(['Name', 'Ticket'], axis=1, inplace=True)\n",
        "titanic.head()"
      ],
      "metadata": {
        "id": "Llmarj1iGI_o"
      },
      "execution_count": null,
      "outputs": []
    },
    {
      "cell_type": "code",
      "source": [
        "# Create indicator for cabin\n",
        "titanic['Cabin_ind'] = np.where(titanic['Cabin'].isnull(), 0, 1)\n",
        "titanic.head()"
      ],
      "metadata": {
        "id": "xRufultoGXa4"
      },
      "execution_count": null,
      "outputs": []
    },
    {
      "cell_type": "code",
      "source": [
        "# Convert Sex to numeric\n",
        "gender_num = {'male': 0, 'female': 1}\n",
        "titanic['Sex'] = titanic['Sex'].map(gender_num)\n",
        "titanic.head()"
      ],
      "metadata": {
        "id": "yR8QTHY9Gmkn"
      },
      "execution_count": null,
      "outputs": []
    },
    {
      "cell_type": "code",
      "source": [
        "titanic.drop(['Cabin', 'Embarked'], axis=1 , inplace=True)\n",
        "titanic.head()"
      ],
      "metadata": {
        "id": "z7XxksyIHFd_"
      },
      "execution_count": null,
      "outputs": []
    },
    {
      "cell_type": "markdown",
      "source": [
        "## **Evaluation**"
      ],
      "metadata": {
        "id": "LBVg07QQPWvG"
      }
    },
    {
      "cell_type": "markdown",
      "source": [
        "**Train/Validation/Test Split**"
      ],
      "metadata": {
        "id": "CWcIfp-nPbX5"
      }
    },
    {
      "cell_type": "code",
      "source": [
        "titanic = pd.read_csv('.. PATH TO FILE ..')"
      ],
      "metadata": {
        "id": "c6fjSGD3Pffa"
      },
      "execution_count": null,
      "outputs": []
    },
    {
      "cell_type": "code",
      "source": [
        "from sklearn.model_selection import train_test_split\n",
        "features = titanic.drop(['Survived'], axis=1)\n",
        "labels = titanic['Survived']\n",
        "# test_size = 40% of the entire data\n",
        "X_train, X_test, y_train, y_test = train_test_split(features, labels, test_size=0.4, random_state=42)\n",
        "X_test, X_val, y_test, y_val = train_test_split(X_test, y_test, test_size=0.5, random_state=42)"
      ],
      "metadata": {
        "id": "zthh1h0CPmn4"
      },
      "execution_count": null,
      "outputs": []
    },
    {
      "cell_type": "code",
      "source": [
        "print (len(labels), len(y_train), len(y_val), len(y_test))"
      ],
      "metadata": {
        "id": "kwRFn6JDQu49"
      },
      "execution_count": null,
      "outputs": []
    }
  ]
}